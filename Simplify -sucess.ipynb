{
 "cells": [
  {
   "cell_type": "markdown",
   "metadata": {},
   "source": [
    "# flygym dev-v1.0.0 tutorial\n",
    "\n",
    "In this tutorial, we will learn the basics of using the new API introduced in flygym v1.0.\n",
    "\n",
    "The major changes introduced by this update are:\n",
    "- refactoring: the `NeuroMechFly` has been split into `Fly`, `Camera`, and `Simulation` (or `SingleFlySimulation`).\n",
    "- new features: multi-fly simulation, multi-camera rendering, etc.\n",
    "- new examples: path integration, integrating connectome constrained model for vision, head stabilization, etc.\n",
    "- bug fixes: e.g., fixed issue with camera not rotating according to the fly's orientation."
   ]
  },
  {
   "cell_type": "markdown",
   "metadata": {},
   "source": [
    "# Installation\n",
    "To install the new version of flygym, execute the commands below in a terminal:\n",
    "\n",
    "```sh\n",
    "git clone https://github.com/NeLy-EPFL/flygym.git flygym-v1\n",
    "cd flygym-v1\n",
    "git checkout dev-v1.0.0\n",
    "conda create -y -n flygym-v1 python=3.11\n",
    "conda activate flygym-v1\n",
    "pip install -e \".[dev]\"\n",
    "```\n",
    "\n",
    "The commands above basically\n",
    "- clone the `flygym` repository to a new directory named `flygym-v1` (to avoid conflict with the presumably existing `flygym` directory)\n",
    "- change the working directory to `flygym-v1`\n",
    "- switch to the `dev-v1.0.0` branch\n",
    "- create a new virtual environment named `flygym-v1` (to avoid conflict with the presumably existing `flygym` environment)\n",
    "- activate the `flygym-v1` environment (do this every time before you use the new `flygym` version)\n",
    "- install the new version of the `flygym` package"
   ]
  },
  {
   "cell_type": "code",
   "execution_count": 1,
   "metadata": {},
   "outputs": [],
   "source": [
    "from pathlib import Path\n",
    "import pickle\n",
    "import numpy as np\n",
    "from tqdm import trange\n",
    "\n",
    "save_dir = Path(\"outputs\")\n",
    "save_dir.mkdir(exist_ok=True)"
   ]
  },
  {
   "cell_type": "markdown",
   "metadata": {},
   "source": [
    "To get started, let's do a simply kinematic reply (same as what we did in [week 1](https://github.com/NeLy-EPFL/cobar-exercises/blob/main/week1/gym_basics_and_kinematic_replay.ipynb)) with the new API. We start by loading the joint angles data:"
   ]
  },
  {
   "cell_type": "code",
   "execution_count": 2,
   "metadata": {},
   "outputs": [],
   "source": [
    "# note that flygym.mujoco.<module> has been renamed to flygym.<module>\n",
    "# (e.g., flygym.mujoco.preprogrammed -> flygym.preprogrammed)\n",
    "from flygym.preprogrammed import all_leg_dofs\n",
    "from flygym.util import get_data_path\n",
    "\n",
    "run_time = 0.5\n",
    "timestep = 1e-4\n",
    "actuated_joints = all_leg_dofs\n",
    "\n",
    "data_path = get_data_path(\"flygym\", \"data\")\n",
    "render_mode=\"saved\"\n",
    "render_playspeed=0.2, \n",
    "draw_contacts=True\n",
    "with open(data_path / \"behavior\" / \"210902_pr_fly1.pkl\", \"rb\") as f:\n",
    "    data = pickle.load(f)\n",
    "with open(data_path / \"behavior\" / \"210902_pr_fly1.pkl\", \"rb\") as f:\n",
    "    data1=pickle.load(f)\n"
   ]
  },
  {
   "cell_type": "code",
   "execution_count": 3,
   "metadata": {},
   "outputs": [],
   "source": [
    "data[\"joint_LFCoxa\"]=np.concatenate([np.linspace(0, 0, 100),np.linspace(0, 0, 100),np.linspace(0, 0, 100),np.linspace(0, 0, 100)]).tolist()\n",
    "data[\"joint_LFCoxa_roll\"]=np.concatenate([np.linspace(0, 0.8, 100),np.linspace(0.8, 0.8, 100),np.linspace(0.8, 0.8,100),np.linspace(0.8, 0.3, 100)]).tolist()\n",
    "data[\"joint_LFCoxa_yaw\"]=np.concatenate([np.linspace(1.5,1.5, 100),np.linspace(1.5,1.5, 100),np.linspace(1.5,1.5, 100),np.linspace(1.5, 1.5, 100)]).tolist()\n",
    "data[\"joint_LFFemur\"]=np.concatenate([np.linspace(-1.5,-1.5, 100),np.linspace(-1.5,-1.5, 100),np.linspace(-1.5,-1.5,100),np.linspace(-1.5, -1.5, 100)]).tolist()\n",
    "data[\"joint_LFFemur_roll\"]=np.concatenate([np.linspace(-1.5,-1.5, 100),np.linspace(-1.5,-1.5,100),np.linspace(-1.5,-1.5, 100),np.linspace(-1.5,-1.5, 100)]).tolist()\n",
    "data[\"joint_LFTibia\"]=np.concatenate([np.linspace(-1.17,-1.1, 100),np.linspace(-1.1,-1.1 ,100),np.linspace(-1.1,-1.1, 100),np.linspace(-1.1, -0.9, 100)]).tolist()\n",
    "data[\"joint_LFTarsus1\"]=np.concatenate([np.linspace(-1.5,-0.21 ,100),np.linspace(-0.2,0, 100),np.linspace(0,0, 100),np.linspace(0, -0.6, 100)]).tolist()\n",
    "\n",
    "data[\"joint_LMCoxa\"]=np.concatenate([np.linspace(0.11,0.12, 100),np.linspace(0.12,0.8, 100),np.linspace(0.8,1, 100),np.linspace(1, -0.6, 100)]).tolist()\n",
    "data[\"joint_LMCoxa_roll\"]=np.concatenate([np.linspace(0.1,0.1 ,100),np.linspace(0.1,0.1,100),np.linspace(0.1,0.1 ,100),np.linspace(0.1, 0.1, 100)]).tolist()\n",
    "data[\"joint_LMCoxa_yaw\"]=np.concatenate([np.linspace(0.4,0.4, 100),np.linspace(0.4,0.4, 100),np.linspace(0.4,0.6, 100),np.linspace(0.6, 0.4, 100)]).tolist()\n",
    "data[\"joint_LMFemur\"]=np.concatenate([np.linspace(-1.98,-0.698 , 100),np.linspace(-0.698,-0.428, 100),np.linspace(-0.428,-0.428,100),np.linspace(-0.428, -0.498, 100)]).tolist()\n",
    "data[\"joint_LMFemur_roll\"]=np.concatenate([np.linspace(0,0 , 100,),np.linspace(0,0, 100),np.linspace(0,0 , 100),np.linspace(0, 0,100)]).tolist()\n",
    "data[\"joint_LMTibia\"]=np.concatenate([np.linspace(1.74,0.5, 100),np.linspace(0.5,0.2, 100),np.linspace(0.2,0.2, 100),np.linspace(0.2,1.5, 100)]).tolist()\n",
    "data[\"joint_LMTarsus1\"]=np.concatenate([np.linspace(-0.2,-0.33 ,100),np.linspace(-0.33,-0.1, 100),np.linspace(-0.1,-0.1 ,100),np.linspace(-0.1, -1.2, 100)]).tolist()\n",
    "\n",
    "data[\"joint_LHCoxa\"]=np.concatenate([np.linspace(0.4,0.21, 100),np.linspace(0.21,-0.2, 100),np.linspace(-0.2,-0.2, 100),np.linspace(-0.2, 0.6, 100)]).tolist()\n",
    "data[\"joint_LHCoxa_roll\"]=np.concatenate([np.linspace(2.5,2.5,100),np.linspace(2.5,2.5, 100),np.linspace(2.5,2.6, 100),np.linspace(2.61, 2.61, 100)]).tolist()\n",
    "data[\"joint_LHCoxa_yaw\"]=np.concatenate([np.linspace(-0.07,0.2,100),np.linspace(0.2,0.2, 100),np.linspace(0.2, 0.2, 100),np.linspace(0.2, 0.4, 100)]).tolist()\n",
    "data[\"joint_LHFemur\"]=np.concatenate([np.linspace(-1.01,-1.82 ,100),np.linspace(-1.82,-1.2, 100),np.linspace(-1.2,-1.2 ,100),np.linspace(-1.2, -0.2, 100)]).tolist()\n",
    "data[\"joint_LHFemur_roll\"]=np.concatenate([np.linspace(0,0 , 100),np.linspace(0,0, 100),np.linspace(0,0 , 100),np.linspace(0, 0, 100)]).tolist()\n",
    "data[\"joint_LHTibia\"]=np.concatenate([np.linspace(2.07,2.15, 100),np.linspace(2.15,0.1, 100),np.linspace(0.1,0.1, 100),np.linspace(0.1, 0.1, 100)]).tolist()\n",
    "data[\"joint_LHTarsus1\"]=np.concatenate([np.linspace(-1,-1.1, 100),np.linspace(-1.1,-0.2, 100),np.linspace(-0.2,-0.2,100),np.linspace(-0.2, -0.2, 100)]).tolist()\n",
    "\n",
    "\n",
    "data[\"joint_RFCoxa\"]=data[\"joint_LFCoxa\"]\n",
    "data[\"joint_RFCoxa_roll\"]=[-x for x in data[\"joint_LFCoxa_roll\"]]\n",
    "data[\"joint_RFCoxa_yaw\"]=[-x for x in data[\"joint_LFCoxa_yaw\"]]\n",
    "data[\"joint_RFFemur\"]=data[\"joint_LFFemur\"]\n",
    "data[\"joint_RFFemur_roll\"]=[-x for x in data[\"joint_LFFemur_roll\"]]\n",
    "data[\"joint_RFTibia\"]=data[\"joint_LFTibia\"]\n",
    "data[\"joint_RFTarsus1\"]=data[\"joint_LFTarsus1\"]\n",
    "\n",
    "data[\"joint_RMCoxa\"]=data[\"joint_LMCoxa\"]\n",
    "data[\"joint_RMCoxa_roll\"]=[-x for x in data[\"joint_LMCoxa_roll\"]]\n",
    "data[\"joint_RMCoxa_yaw\"]=[-x for x in data[\"joint_LMCoxa_yaw\"]]\n",
    "data[\"joint_RMFemur\"]=data[\"joint_LMFemur\"]\n",
    "data[\"joint_RMFemur_roll\"]=[-x for x in data[\"joint_LMFemur_roll\"]]\n",
    "data[\"joint_RMTibia\"]=data[\"joint_LMTibia\"]\n",
    "data[\"joint_RMTarsus1\"]=data[\"joint_LMTarsus1\"]\n",
    "\n",
    "data[\"joint_RHCoxa\"]=data[\"joint_LHCoxa\"]\n",
    "data[\"joint_RHCoxa_roll\"]=[-x for x in data[\"joint_LHCoxa_roll\"]]\n",
    "data[\"joint_RHCoxa_yaw\"]=[-x for x in data[\"joint_LHCoxa_yaw\"]]\n",
    "data[\"joint_RHFemur\"]=data[\"joint_LHFemur\"]\n",
    "data[\"joint_RHFemur_roll\"]=[-x for x in data[\"joint_LHFemur_roll\"]]\n",
    "data[\"joint_RHTibia\"]=data[\"joint_LHTibia\"]\n",
    "data[\"joint_RHTarsus1\"]=data[\"joint_LHTarsus1\"]\n"
   ]
  },
  {
   "cell_type": "code",
   "execution_count": 4,
   "metadata": {},
   "outputs": [],
   "source": [
    "target_num_steps = int(run_time / timestep)\n",
    "data_block = np.zeros((len(actuated_joints), target_num_steps))\n",
    "input_t = np.arange(len(data[\"joint_LFCoxa\"])) * data[\"meta\"][\"timestep\"]\n",
    "output_t = np.arange(target_num_steps) * timestep\n",
    "\n",
    "for i, joint in enumerate(actuated_joints):\n",
    "    data_block[i, :] = np.interp(output_t, input_t, data[joint])\n",
    "\n",
    "\n",
    "data_block1 = np.zeros((len(actuated_joints), target_num_steps))\n",
    "input_t = np.arange(len(data1[\"joint_LFCoxa\"])) * data1[\"meta\"][\"timestep\"]\n",
    "output_t = np.arange(target_num_steps) * timestep\n",
    "for i, joint in enumerate(actuated_joints):\n",
    "    data_block1[i, :] = np.interp(output_t, input_t, data1[joint])"
   ]
  },
  {
   "cell_type": "code",
   "execution_count": 5,
   "metadata": {},
   "outputs": [
    {
     "data": {
      "image/png": "[encoded data removed]",
      "text/plain": [
       "<Figure size 800x600 with 6 Axes>"
      ]
     },
     "metadata": {},
     "output_type": "display_data"
    }
   ],
   "source": [
    "import matplotlib.pyplot as plt\n",
    "fig, axs = plt.subplots(\n",
    "    3, 2, figsize=(8, 6), sharex=True, sharey=True, tight_layout=True\n",
    ")\n",
    "legs = [\n",
    "    f\"{side} {pos} leg\"\n",
    "    for pos in [\"front\", \"middle\", \"hind\"]\n",
    "    for side in [\"Left\", \"Right\"]\n",
    "]\n",
    "for i, leg in enumerate(legs):\n",
    "    ax = axs.flatten()[i]\n",
    "    leg_code = f\"{leg.split()[0][0]}{leg.split()[1][0]}\".upper()\n",
    "    for j, dof in enumerate(actuated_joints):\n",
    "        if dof.split(\"_\")[1][:2] != leg_code:\n",
    "            continue\n",
    "        ax.plot(output_t, np.rad2deg(data_block[j, :]), label=dof[8:])\n",
    "    ax.set_ylim(-180, 180)\n",
    "    ax.set_xlabel(\"Time (s)\")\n",
    "    ax.set_ylabel(\"Angle (degree)\")\n",
    "    ax.set_yticks([-180, -90, 0, 90, 180])\n",
    "    ax.set_title(leg)\n",
    "    if leg == \"Right front leg\":\n",
    "        ax.legend(bbox_to_anchor=(1.04, 0.5), loc=\"center left\", borderaxespad=0)"
   ]
  },
  {
   "cell_type": "markdown",
   "metadata": {},
   "source": [
    "# Single fly simulation\n",
    "Previously, all the attributes and methods of the simulation were included in the `NeuroMechFly` class. To improve cohesion and modularity, it has been restructured into 3 classes: `Fly`, `Camera`, and `SingleFlySimulation`. Let's import them instead:"
   ]
  },
  {
   "cell_type": "code",
   "execution_count": 6,
   "metadata": {},
   "outputs": [],
   "source": [
    "from flygym import Fly, Camera, SingleFlySimulation"
   ]
  },
  {
   "cell_type": "code",
   "execution_count": 7,
   "metadata": {},
   "outputs": [
    {
     "data": {
      "text/plain": [
       "'\\n# most of the parameters previously passed to Parameters are now passed to Fly.\\n# check the documentation for more details.\\nfly = Fly(\\n    init_pose=\"stretch\",\\n    actuator_kp=30,\\n    actuated_joints=actuated_joints\\n\\n    )\\ncam = Camera(\\n    fly=fly,\\n    camera_id=\"Animat/camera_top_right\",\\n)\\n\\nsim = SingleFlySimulation(\\n    fly=fly,\\n    cameras=[cam],\\n)\\nobs, info = sim.reset()\\n\\nfor i in trange(target_num_steps):\\n    joint_pos = data_block[:, i]\\n    action = {\"joints\": joint_pos}\\n    obs, reward, terminated, truncated, info = sim.step(action)\\n    sim.render()\\n\\n# note that save_video is a method of Camera instead of Simulation\\ncam.save_video(save_dir / \"single_fly.mp4\")\\n'"
      ]
     },
     "execution_count": 7,
     "metadata": {},
     "output_type": "execute_result"
    }
   ],
   "source": [
    "'''\n",
    "# most of the parameters previously passed to Parameters are now passed to Fly.\n",
    "# check the documentation for more details.\n",
    "fly = Fly(\n",
    "    init_pose=\"stretch\",\n",
    "    actuator_kp=30,\n",
    "    actuated_joints=actuated_joints\n",
    "\n",
    "    )\n",
    "cam = Camera(\n",
    "    fly=fly,\n",
    "    camera_id=\"Animat/camera_top_right\",\n",
    ")\n",
    "\n",
    "sim = SingleFlySimulation(\n",
    "    fly=fly,\n",
    "    cameras=[cam],\n",
    ")\n",
    "obs, info = sim.reset()\n",
    "\n",
    "for i in trange(target_num_steps):\n",
    "    joint_pos = data_block[:, i]\n",
    "    action = {\"joints\": joint_pos}\n",
    "    obs, reward, terminated, truncated, info = sim.step(action)\n",
    "    sim.render()\n",
    "\n",
    "# note that save_video is a method of Camera instead of Simulation\n",
    "cam.save_video(save_dir / \"single_fly.mp4\")\n",
    "'''"
   ]
  },
  {
   "cell_type": "code",
   "execution_count": 8,
   "metadata": {},
   "outputs": [
    {
     "data": {
      "text/plain": [
       "'\\'\\nVideo(str(save_dir / \"single_fly.mp4\"))\\n'"
      ]
     },
     "execution_count": 8,
     "metadata": {},
     "output_type": "execute_result"
    }
   ],
   "source": [
    "\n",
    "from IPython.display import Video\n",
    "''''\n",
    "Video(str(save_dir / \"single_fly.mp4\"))\n",
    "'''"
   ]
  },
  {
   "cell_type": "markdown",
   "metadata": {},
   "source": [
    "# Multi-camera rendering\n",
    "It is also possible to pass multiple cameras to `SingleFlySimulation`:"
   ]
  },
  {
   "cell_type": "code",
   "execution_count": 9,
   "metadata": {},
   "outputs": [
    {
     "data": {
      "text/plain": [
       "'\\'\\nimport imageio\\n\\nfly = Fly(\\n    spawn_pos=(0, 0, 1),\\n    actuated_joints=actuated_joints,\\n)\\n\\ncameras = [\\n    Camera(fly=fly, camera_id=f\"Animat/camera_{side}\", window_size=(256, 256))\\n    for side in [\"left\", \"right\", \"top\", \"front\"]\\n]\\n\\nsim = SingleFlySimulation(\\n    fly=fly,\\n    cameras=cameras,\\n)\\nobs, info = sim.reset()\\n\\nwith imageio.get_writer(save_dir / \"multiview.mp4\", fps=cameras[0].fps) as writer:\\n    for i in trange(target_num_steps):\\n        joint_pos = data_block[:, i]\\n        action = {\"joints\": joint_pos}\\n        obs, reward, terminated, truncated, info = sim.step(action)\\n        images = sim.render()\\n\\n        if all(i is not None for i in images):\\n            frame = np.concatenate(images, axis=1)\\n            writer.append_data(frame)\\n            '"
      ]
     },
     "execution_count": 9,
     "metadata": {},
     "output_type": "execute_result"
    }
   ],
   "source": [
    "''''\n",
    "import imageio\n",
    "\n",
    "fly = Fly(\n",
    "    spawn_pos=(0, 0, 1),\n",
    "    actuated_joints=actuated_joints,\n",
    ")\n",
    "\n",
    "cameras = [\n",
    "    Camera(fly=fly, camera_id=f\"Animat/camera_{side}\", window_size=(256, 256))\n",
    "    for side in [\"left\", \"right\", \"top\", \"front\"]\n",
    "]\n",
    "\n",
    "sim = SingleFlySimulation(\n",
    "    fly=fly,\n",
    "    cameras=cameras,\n",
    ")\n",
    "obs, info = sim.reset()\n",
    "\n",
    "with imageio.get_writer(save_dir / \"multiview.mp4\", fps=cameras[0].fps) as writer:\n",
    "    for i in trange(target_num_steps):\n",
    "        joint_pos = data_block[:, i]\n",
    "        action = {\"joints\": joint_pos}\n",
    "        obs, reward, terminated, truncated, info = sim.step(action)\n",
    "        images = sim.render()\n",
    "\n",
    "        if all(i is not None for i in images):\n",
    "            frame = np.concatenate(images, axis=1)\n",
    "            writer.append_data(frame)\n",
    "            '''"
   ]
  },
  {
   "cell_type": "code",
   "execution_count": 10,
   "metadata": {},
   "outputs": [
    {
     "data": {
      "text/plain": [
       "'\\nVideo(str(save_dir / \"multiview.mp4\"))\\n'"
      ]
     },
     "execution_count": 10,
     "metadata": {},
     "output_type": "execute_result"
    }
   ],
   "source": [
    "'''\n",
    "Video(str(save_dir / \"multiview.mp4\"))\n",
    "'''"
   ]
  },
  {
   "cell_type": "markdown",
   "metadata": {},
   "source": [
    "# Multi-fly simulation\n",
    "To run multi-fly simulations, use the `Simulation` class and set the `flies` parameter to a list of `Fly` objects. To identify each fly, let's name them \"0\" and \"1\". As there are multiple flies, the `action` becomes a nested dictionary indexed by the names of the flies at the top level.\n",
    "\n",
    "In fact, `SingleFlySimulation` is just a wrapper around `Simulation`. It is provided for convenence so that `action` does not need to be indexed by the fly's name if there is only one fly."
   ]
  },
  {
   "cell_type": "code",
   "execution_count": 11,
   "metadata": {},
   "outputs": [],
   "source": [
    "#Steady Fly\n",
    "part= 'Thorax', 'A1A2', 'A3', 'A4', 'A5', 'A6', 'Head_roll', 'Head_yaw','Head', 'LEye', 'LPedicel_roll', 'LPedicel_yaw', 'LPedicel','LFuniculus_roll', 'LFuniculus_yaw', 'LFuniculus', 'LArista_roll','LArista_yaw', 'LArista', 'REye', 'Rostrum', 'Haustellum','RPedicel_roll', 'RPedicel_yaw', 'RPedicel', 'RFuniculus_roll','RFuniculus_yaw', 'RFuniculus', 'RArista_roll', 'RArista_yaw','RArista', 'LFCoxa_roll', 'LFCoxa_yaw', 'LFCoxa', 'LFFemur','LFFemur_roll', 'LFTibia', 'LFTarsus1', 'LFTarsus2', 'LFTarsus3','LFTarsus4', 'LFTarsus5', 'LHaltere_roll', 'LHaltere_yaw','LHaltere', 'LHCoxa_roll', 'LHCoxa_yaw', 'LHCoxa', 'LHFemur','LHFemur_roll', 'LHTibia', 'LHTarsus1', 'LHTarsus2', 'LHTarsus3','LHTarsus4', 'LHTarsus5', 'LMCoxa_roll', 'LMCoxa_yaw', 'LMCoxa','LMFemur', 'LMFemur_roll', 'LMTibia', 'LMTarsus1', 'LMTarsus2','LMTarsus3', 'LMTarsus4', 'LMTarsus5', 'LWing_roll', 'LWing_yaw','LWing', 'RFCoxa_roll', 'RFCoxa_yaw', 'RFCoxa', 'RFFemur', 'RFFemur_roll', 'RFTibia', 'RFTarsus1', 'RFTarsus2', 'RFTarsus3','RFTarsus4', 'RFTarsus5', 'RHaltere_roll', 'RHaltere_yaw','RHaltere', 'RHCoxa_roll', 'RHCoxa_yaw', 'RHCoxa', 'RHFemur', 'RHFemur_roll', 'RHTibia', 'RHTarsus1', 'RHTarsus2', 'RHTarsus3','RHTarsus4', 'RHTarsus5', 'RMCoxa_roll', 'RMCoxa_yaw', 'RMCoxa','RMFemur', 'RMFemur_roll', 'RMTibia', 'RMTarsus1', 'RMTarsus2', 'RMTarsus3', 'RMTarsus4', 'RMTarsus5', 'RWing_roll', 'RWing_yaw','RWing'"
   ]
  },
  {
   "cell_type": "code",
   "execution_count": 12,
   "metadata": {},
   "outputs": [],
   "source": [
    "from flygym import Simulation\n",
    "\n",
    "fly0 = Fly(name=\"0\",self_collisions=[part], spawn_pos=(0, 0, 0))\n",
    "fly1 = Fly(name=\"1\", self_collisions=[part],spawn_pos=(2, 0.15, 0),spawn_orientation=(0.0, 0.0, 2*np.pi / 2))"
   ]
  },
  {
   "cell_type": "code",
   "execution_count": 13,
   "metadata": {},
   "outputs": [
    {
     "name": "stdout",
     "output_type": "stream",
     "text": [
      "Head_Thorax\n",
      "check\n",
      "LFTarsus5_Head\n",
      "check\n",
      "RFTarsus5_Head\n",
      "check\n",
      "LFTarsus5_Thorax\n",
      "check\n",
      "RFTarsus5_Thorax\n",
      "check\n",
      "LFTarsus5_A1A2\n",
      "check\n",
      "RFTarsus5_A1A2\n",
      "check\n",
      "LFTarsus5_RWing\n",
      "check\n",
      "RFTarsus5_RWing\n",
      "check\n",
      "LFTarsus5_LWing\n",
      "check\n",
      "RFTarsus5_LWing\n",
      "check\n"
     ]
    }
   ],
   "source": [
    "def _add__collision(geo1,geo2):\n",
    "    fly_0= fly0.model.find(\"geom\", geo1)\n",
    "    fly_1= fly1.model.find(\"geom\", geo2)\n",
    "    print(f\"{geo1}_{geo2}\")\n",
    "    fly0.model.contact.add(\n",
    "    \"pair\",\n",
    "    name=f\"{geo1}_{geo2}\",\n",
    "    geom1=fly_0,\n",
    "    geom2=fly_1,\n",
    "    solref=fly0.contact_solref,\n",
    "    solimp=fly0.contact_solimp,\n",
    "    )\n",
    "    print(\"check\")\n",
    "\n",
    "_add__collision(\"Head\",\"Thorax\")\n",
    "_add__collision(\"LFTarsus5\",\"Head\")\n",
    "_add__collision(\"RFTarsus5\",\"Head\")\n",
    "_add__collision(\"LFTarsus5\",\"Thorax\")\n",
    "_add__collision(\"RFTarsus5\",\"Thorax\")\n",
    "_add__collision(\"LFTarsus5\",\"A1A2\")\n",
    "_add__collision(\"RFTarsus5\",\"A1A2\")\n",
    "_add__collision(\"LFTarsus5\",\"RWing\")\n",
    "_add__collision(\"RFTarsus5\",\"RWing\")\n",
    "_add__collision(\"LFTarsus5\",\"LWing\")\n",
    "_add__collision(\"RFTarsus5\",\"LWing\")"
   ]
  },
  {
   "cell_type": "code",
   "execution_count": 14,
   "metadata": {},
   "outputs": [
    {
     "data": {
      "text/plain": [
       "'\\nfly0_head = fly0.model.find(\"geom\", \"Head\")\\nfly1_thorax = fly1.model.find(\"geom\", \"Thorax\")\\n\\nfly0.model.contact.add(\\n    \"pair\",\\n    name=\"0Head_1Thorax\",\\n    geom1=fly0_head,\\n    geom2=fly1_thorax,\\n    solref=fly0.contact_solref,\\n    solimp=fly0.contact_solimp,\\n)\\n'"
      ]
     },
     "execution_count": 14,
     "metadata": {},
     "output_type": "execute_result"
    }
   ],
   "source": [
    "'''\n",
    "fly0_head = fly0.model.find(\"geom\", \"Head\")\n",
    "fly1_thorax = fly1.model.find(\"geom\", \"Thorax\")\n",
    "\n",
    "fly0.model.contact.add(\n",
    "    \"pair\",\n",
    "    name=\"0Head_1Thorax\",\n",
    "    geom1=fly0_head,\n",
    "    geom2=fly1_thorax,\n",
    "    solref=fly0.contact_solref,\n",
    "    solimp=fly0.contact_solimp,\n",
    ")\n",
    "'''"
   ]
  },
  {
   "cell_type": "code",
   "execution_count": 15,
   "metadata": {},
   "outputs": [
    {
     "name": "stderr",
     "output_type": "stream",
     "text": [
      "100%|██████████| 5000/5000 [00:59<00:00, 84.24it/s] \n"
     ]
    }
   ],
   "source": [
    "\n",
    "cam = Camera(fly=fly0, camera_id=\"Animat/camera_right\")\n",
    "\n",
    "sim = Simulation(\n",
    "    flies=[fly0, fly1],\n",
    "    cameras=[cam],\n",
    ")\n",
    "obs, info = sim.reset()\n",
    "\n",
    "for i in trange(target_num_steps):\n",
    "    joint_pos = data_block[:, i]\n",
    "    joint_pos_steady=data_block1[:, 30]\n",
    "    action = {\n",
    "        \"0\": {\"joints\": joint_pos},\n",
    "        \"1\": {\"joints\": joint_pos_steady}\n",
    "        \n",
    "    }\n",
    "    obs, reward, terminated, truncated, info = sim.step(action)\n",
    "    sim.render()\n",
    "\n",
    "cam.save_video(save_dir / \"two_flies.mp4\")\n",
    "\n"
   ]
  },
  {
   "cell_type": "code",
   "execution_count": 16,
   "metadata": {},
   "outputs": [
    {
     "data": {
      "text/html": [
       "<video src=\"outputs\\two_flies.mp4\" controls  >\n",
       "      Your browser does not support the <code>video</code> element.\n",
       "    </video>"
      ],
      "text/plain": [
       "<IPython.core.display.Video object>"
      ]
     },
     "execution_count": 16,
     "metadata": {},
     "output_type": "execute_result"
    }
   ],
   "source": [
    "\n",
    "Video(str(save_dir / \"two_flies.mp4\"))\n"
   ]
  },
  {
   "cell_type": "code",
   "execution_count": 17,
   "metadata": {},
   "outputs": [
    {
     "data": {
      "text/plain": [
       "'\\nx=fly0.get_observation(sim)\\nprint(x)\\n#4, 19\\nprint (x[\"contact_forces\"][4])\\nprint (x[\"contact_forces\"][19])\\nprint(all_tarsi_links)\\n'"
      ]
     },
     "execution_count": 17,
     "metadata": {},
     "output_type": "execute_result"
    }
   ],
   "source": [
    "from flygym.preprogrammed import all_tarsi_links\n",
    "import flygym \n",
    "'''\n",
    "x=fly0.get_observation(sim)\n",
    "print(x)\n",
    "#4, 19\n",
    "print (x[\"contact_forces\"][4])\n",
    "print (x[\"contact_forces\"][19])\n",
    "print(all_tarsi_links)\n",
    "'''"
   ]
  },
  {
   "cell_type": "code",
   "execution_count": 18,
   "metadata": {},
   "outputs": [
    {
     "data": {
      "text/plain": [
       "'\\nfig, axes = plt.subplots(3, 2, figsize=(10, 8))\\naxes = axes.flatten()\\n\\ncam = Camera(fly=fly0, camera_id=\"Animat/camera_top\")\\nsim = Simulation(\\n    flies=[fly0, fly1],\\n    cameras=[cam],\\n)\\nobs, info = sim.reset()\\n\\nfor i in trange(target_num_steps):\\n    joint_pos = data_block[:, i]\\n    joint_pos_steady=data_block1[:, 30]\\n    action = {\\n        \"0\": {\"joints\": joint_pos},\\n        \"1\": {\"joints\": joint_pos_steady}\\n    \\n    }\\n    obs, reward, terminated, truncated, info = sim.step(action)\\n    output_t =i * timestep\\n    x=fly0.get_observation(sim)\\n\\n    axes[0].plot(output_t, x[\"contact_forces\"][4][0], \".\",color=\\'blue\\',markersize=2)\\n    axes[1].plot(output_t, x[\"contact_forces\"][19][0], \".\",color=\\'blue\\',markersize=2)\\n    axes[2].plot(output_t, x[\"contact_forces\"][4][1], \".\",color=\\'red\\',markersize=2)\\n    axes[3].plot(output_t, x[\"contact_forces\"][19][1], \".\",color=\\'red\\',markersize=2)\\n    axes[4].plot(output_t, x[\"contact_forces\"][4][2], \".\",color=\\'green\\',markersize=2)\\n    axes[5].plot(output_t, x[\"contact_forces\"][19][2], \".\",color=\\'green\\',markersize=)\\n# Set the same y-axis limits for all subplots\\nfor ax in axes:\\n    ax.set_ylim(-3, 3.5)\\n    ax.set_xlim(0.2, 0.5)\\n    ax.set_xlabel(\"Time (s)\")\\n\\n# Set individual y-axis labels\\naxes[0].set_ylabel(\"L X Force\")\\naxes[1].set_ylabel(\"R X Force\")\\naxes[2].set_ylabel(\"L Y Force\")\\naxes[3].set_ylabel(\"R Y Force\")\\naxes[4].set_ylabel(\"L Z Force\")\\naxes[5].set_ylabel(\"R Z Force\")\\n\\nplt.tight_layout()\\nplt.show()\\n'"
      ]
     },
     "execution_count": 18,
     "metadata": {},
     "output_type": "execute_result"
    }
   ],
   "source": [
    "'''\n",
    "fig, axes = plt.subplots(3, 2, figsize=(10, 8))\n",
    "axes = axes.flatten()\n",
    "\n",
    "cam = Camera(fly=fly0, camera_id=\"Animat/camera_top\")\n",
    "sim = Simulation(\n",
    "    flies=[fly0, fly1],\n",
    "    cameras=[cam],\n",
    ")\n",
    "obs, info = sim.reset()\n",
    "\n",
    "for i in trange(target_num_steps):\n",
    "    joint_pos = data_block[:, i]\n",
    "    joint_pos_steady=data_block1[:, 30]\n",
    "    action = {\n",
    "        \"0\": {\"joints\": joint_pos},\n",
    "        \"1\": {\"joints\": joint_pos_steady}\n",
    "    \n",
    "    }\n",
    "    obs, reward, terminated, truncated, info = sim.step(action)\n",
    "    output_t =i * timestep\n",
    "    x=fly0.get_observation(sim)\n",
    "\n",
    "    axes[0].plot(output_t, x[\"contact_forces\"][4][0], \".\",color='blue',markersize=2)\n",
    "    axes[1].plot(output_t, x[\"contact_forces\"][19][0], \".\",color='blue',markersize=2)\n",
    "    axes[2].plot(output_t, x[\"contact_forces\"][4][1], \".\",color='red',markersize=2)\n",
    "    axes[3].plot(output_t, x[\"contact_forces\"][19][1], \".\",color='red',markersize=2)\n",
    "    axes[4].plot(output_t, x[\"contact_forces\"][4][2], \".\",color='green',markersize=2)\n",
    "    axes[5].plot(output_t, x[\"contact_forces\"][19][2], \".\",color='green',markersize=)\n",
    "# Set the same y-axis limits for all subplots\n",
    "for ax in axes:\n",
    "    ax.set_ylim(-3, 3.5)\n",
    "    ax.set_xlim(0.2, 0.5)\n",
    "    ax.set_xlabel(\"Time (s)\")\n",
    "\n",
    "# Set individual y-axis labels\n",
    "axes[0].set_ylabel(\"L X Force\")\n",
    "axes[1].set_ylabel(\"R X Force\")\n",
    "axes[2].set_ylabel(\"L Y Force\")\n",
    "axes[3].set_ylabel(\"R Y Force\")\n",
    "axes[4].set_ylabel(\"L Z Force\")\n",
    "axes[5].set_ylabel(\"R Z Force\")\n",
    "\n",
    "plt.tight_layout()\n",
    "plt.show()\n",
    "'''"
   ]
  },
  {
   "cell_type": "markdown",
   "metadata": {},
   "source": [
    "Refer to [chasing.ipynb](chasing.ipynb) for an example of a fly chasing another fly."
   ]
  }
 ],
 "metadata": {
  "kernelspec": {
   "display_name": "flygym",
   "language": "python",
   "name": "python3"
  },
  "language_info": {
   "codemirror_mode": {
    "name": "ipython",
    "version": 3
   },
   "file_extension": ".py",
   "mimetype": "text/x-python",
   "name": "python",
   "nbconvert_exporter": "python",
   "pygments_lexer": "ipython3",
   "version": "3.11.9"
  }
 },
 "nbformat": 4,
 "nbformat_minor": 2
}
